{
 "cells": [
  {
   "attachments": {},
   "cell_type": "markdown",
   "metadata": {},
   "source": [
    "<h1><b>Student Performance Indicator</b></h1>"
   ]
  },
  {
   "attachments": {},
   "cell_type": "markdown",
   "metadata": {},
   "source": [
    "<h4><b>Life cycle of Machine learning Project</b></h4>\n",
    "\n",
    "<ul>\n",
    "<li>Understanding the Problem Statement</li>\n",
    "<li>Data Collection</li>\n",
    "<li>Data Checks to perform</li>\n",
    "<li>Exploratory data analysis</li>\n",
    "<li>Data Pre-Processing</li>\n",
    "<li>Model Training</li>\n",
    "<li>Choose best model</li>\n",
    "</li>\n",
    "</ul>"
   ]
  },
  {
   "attachments": {},
   "cell_type": "markdown",
   "metadata": {},
   "source": [
    "<h4><b>1) Problem statement</b></h4>\n",
    "This project understands how the student's performance (test scores) is affected by other variables such as Gender, Ethnicity, Parental level of education, Lunch and Test preparation course.\n",
    "<h4><b>2) Data Collection</b></h4>\n",
    "<ul><li>Dataset Source - https://www.kaggle.com/datasets/spscientist/students-performance-in-exams?datasetId=74977</li>\n",
    "<li>The data consists of 8 column and 1000 rows.</li></ul>"
   ]
  },
  {
   "attachments": {},
   "cell_type": "markdown",
   "metadata": {},
   "source": [
    "<h4><b>2.1 Import Data and Required Packages</b></h4>\n",
    "    <h5>Importing Pandas, Numpy, Matplotlib, Seaborn and Warings Library.</h5>"
   ]
  },
  {
   "cell_type": "code",
   "execution_count": 1,
   "metadata": {},
   "outputs": [],
   "source": [
    "import numpy as np\n",
    "import pandas as pd\n",
    "import seaborn as sns\n",
    "import matplotlib.pyplot as plt\n",
    "%matplotlib inline \n",
    "import warnings\n",
    "warnings.filterwarnings('ignore')"
   ]
  },
  {
   "cell_type": "code",
   "execution_count": null,
   "metadata": {},
   "outputs": [],
   "source": []
  }
 ],
 "metadata": {
  "kernelspec": {
   "display_name": "Python 3",
   "language": "python",
   "name": "python3"
  },
  "language_info": {
   "codemirror_mode": {
    "name": "ipython",
    "version": 3
   },
   "file_extension": ".py",
   "mimetype": "text/x-python",
   "name": "python",
   "nbconvert_exporter": "python",
   "pygments_lexer": "ipython3",
   "version": "3.8.0"
  },
  "orig_nbformat": 4
 },
 "nbformat": 4,
 "nbformat_minor": 2
}
